{
  "nbformat": 4,
  "nbformat_minor": 0,
  "metadata": {
    "colab": {
      "provenance": [],
      "gpuType": "T4",
      "include_colab_link": true
    },
    "kernelspec": {
      "name": "python3",
      "display_name": "Python 3"
    },
    "language_info": {
      "name": "python"
    },
    "accelerator": "GPU"
  },
  "cells": [
    {
      "cell_type": "markdown",
      "metadata": {
        "id": "view-in-github",
        "colab_type": "text"
      },
      "source": [
        "<a href=\"https://colab.research.google.com/github/NITHISHM2410/Text_Preprocessing/blob/NLP/Text%20Encoding/encoding_for_bert/TextPreprocessing_For_Bert_CustomVocabulary.ipynb\" target=\"_parent\"><img src=\"https://colab.research.google.com/assets/colab-badge.svg\" alt=\"Open In Colab\"/></a>"
      ]
    },
    {
      "cell_type": "code",
      "execution_count": 5,
      "metadata": {
        "id": "lE3GbNOO-hib"
      },
      "outputs": [],
      "source": [
        "import tensorflow as tf\n",
        "import tensorflow_hub as hub"
      ]
    },
    {
      "cell_type": "markdown",
      "source": [
        "Importing a pretrained BERT Model."
      ],
      "metadata": {
        "id": "_yTbvkWJsweq"
      }
    },
    {
      "cell_type": "code",
      "source": [
        "bert_model = hub.KerasLayer(\"https://tfhub.dev/tensorflow/small_bert/bert_en_uncased_L-4_H-512_A-8/1\")"
      ],
      "metadata": {
        "id": "2PlLgFPL-xIG"
      },
      "execution_count": 6,
      "outputs": []
    },
    {
      "cell_type": "code",
      "source": [
        "bert_model.trainable = True"
      ],
      "metadata": {
        "id": "EpTQeccjxAZe"
      },
      "execution_count": 7,
      "outputs": []
    },
    {
      "cell_type": "markdown",
      "source": [
        "This Module can be used for scenarios where we need to train BERT models on our custom vocabulary instead of BERT inbuilt vocabulary as in some scenarios we don't prefer to use bert vocabulary because of its large size and predicting tokens might need a 'long' softmax layer in case of decoding or in the cases where we prefer to have domain specific vocabulary."
      ],
      "metadata": {
        "id": "Bun_xecoAkth"
      }
    },
    {
      "cell_type": "code",
      "source": [
        "import TextBertED as txtbert"
      ],
      "metadata": {
        "id": "VQEFp3v3-yuL"
      },
      "execution_count": 8,
      "outputs": []
    },
    {
      "cell_type": "markdown",
      "source": [
        "DEFINE YOUR CUSTOM VOCABULARY IN 'vocab' PARAMETER AND MAXIMUM LENGTH OF INPUT SENTENCE IN 'max_len' PARAMETER.\n"
      ],
      "metadata": {
        "id": "kLeoeHti_RAj"
      }
    },
    {
      "cell_type": "code",
      "source": [
        "preprocess = txtbert.BertED(\n",
        "    vocab = \"/content/words.txt\",\n",
        "    max_len = 40,\n",
        "    max_tokens = 1_000_000\n",
        "\n",
        ")"
      ],
      "metadata": {
        "id": "n6uOVUut--Ng"
      },
      "execution_count": 9,
      "outputs": []
    },
    {
      "cell_type": "markdown",
      "source": [
        "T0 RETURNS THE VOCABULARY : preprocess.return_vocab()"
      ],
      "metadata": {
        "id": "fvUQR26O6JVM"
      }
    },
    {
      "cell_type": "code",
      "source": [
        "len(preprocess.return_vocab())"
      ],
      "metadata": {
        "id": "34Cnr02I4sEZ",
        "outputId": "bdf5fb12-5aeb-4a8f-8142-aee129c217e8",
        "colab": {
          "base_uri": "https://localhost:8080/"
        }
      },
      "execution_count": 10,
      "outputs": [
        {
          "output_type": "execute_result",
          "data": {
            "text/plain": [
              "1005"
            ]
          },
          "metadata": {},
          "execution_count": 10
        }
      ]
    },
    {
      "cell_type": "code",
      "source": [
        "preprocess.return_vocab()[:30]"
      ],
      "metadata": {
        "colab": {
          "base_uri": "https://localhost:8080/"
        },
        "id": "AubETCPXMnc0",
        "outputId": "2a3e250b-6c02-40f5-dee2-f1b5a7c45c89"
      },
      "execution_count": 11,
      "outputs": [
        {
          "output_type": "execute_result",
          "data": {
            "text/plain": [
              "['',\n",
              " '[UNK]',\n",
              " '[MASK]',\n",
              " '[END]',\n",
              " '[START]',\n",
              " 'the',\n",
              " 'of',\n",
              " 'to',\n",
              " 'and',\n",
              " 'a',\n",
              " 'in',\n",
              " 'is',\n",
              " 'it',\n",
              " 'you',\n",
              " 'that',\n",
              " 'he',\n",
              " 'was',\n",
              " 'for',\n",
              " 'on',\n",
              " 'are',\n",
              " 'with',\n",
              " 'as',\n",
              " 'I',\n",
              " 'his',\n",
              " 'they',\n",
              " 'be',\n",
              " 'at',\n",
              " 'one',\n",
              " 'have',\n",
              " 'this']"
            ]
          },
          "metadata": {},
          "execution_count": 11
        }
      ]
    },
    {
      "cell_type": "markdown",
      "source": [
        "PASSING FEW INPUT SENTENCES TO ENCODE BASED ON OUR CUSTOM VOCAB"
      ],
      "metadata": {
        "id": "-XUNofCEBrJB"
      }
    },
    {
      "cell_type": "code",
      "source": [
        "sentences = [[\"I am not in danger\"],[\"I am the danger\"]]\n",
        "sentences = tf.convert_to_tensor(sentences)\n",
        "sentences"
      ],
      "metadata": {
        "id": "dVokMFjxHNab",
        "outputId": "0c0b17fd-91da-435c-e414-1fafa1fb73c1",
        "colab": {
          "base_uri": "https://localhost:8080/"
        }
      },
      "execution_count": 12,
      "outputs": [
        {
          "output_type": "execute_result",
          "data": {
            "text/plain": [
              "<tf.Tensor: shape=(2, 1), dtype=string, numpy=\n",
              "array([[b'I am not in danger'],\n",
              "       [b'I am the danger']], dtype=object)>"
            ]
          },
          "metadata": {},
          "execution_count": 12
        }
      ]
    },
    {
      "cell_type": "code",
      "source": [
        "results = preprocess(sentences)\n",
        "results"
      ],
      "metadata": {
        "colab": {
          "base_uri": "https://localhost:8080/"
        },
        "id": "MvkbjnKw_hle",
        "outputId": "0d6f3ce2-2ed4-47a7-8a1e-67938f8faaae"
      },
      "execution_count": 13,
      "outputs": [
        {
          "output_type": "execute_result",
          "data": {
            "text/plain": [
              "{'input_word_ids': <tf.Tensor: shape=(2, 40), dtype=int32, numpy=\n",
              " array([[  1, 511,  34,  10, 798,   0,   0,   0,   0,   0,   0,   0,   0,\n",
              "           0,   0,   0,   0,   0,   0,   0,   0,   0,   0,   0,   0,   0,\n",
              "           0,   0,   0,   0,   0,   0,   0,   0,   0,   0,   0,   0,   0,\n",
              "           0],\n",
              "        [  1, 511,   5, 798,   0,   0,   0,   0,   0,   0,   0,   0,   0,\n",
              "           0,   0,   0,   0,   0,   0,   0,   0,   0,   0,   0,   0,   0,\n",
              "           0,   0,   0,   0,   0,   0,   0,   0,   0,   0,   0,   0,   0,\n",
              "           0]], dtype=int32)>,\n",
              " 'input_mask': <tf.Tensor: shape=(2, 40), dtype=int32, numpy=\n",
              " array([[1, 1, 1, 1, 1, 0, 0, 0, 0, 0, 0, 0, 0, 0, 0, 0, 0, 0, 0, 0, 0, 0,\n",
              "         0, 0, 0, 0, 0, 0, 0, 0, 0, 0, 0, 0, 0, 0, 0, 0, 0, 0],\n",
              "        [1, 1, 1, 1, 0, 0, 0, 0, 0, 0, 0, 0, 0, 0, 0, 0, 0, 0, 0, 0, 0, 0,\n",
              "         0, 0, 0, 0, 0, 0, 0, 0, 0, 0, 0, 0, 0, 0, 0, 0, 0, 0]],\n",
              "       dtype=int32)>,\n",
              " 'input_type_ids': <tf.Tensor: shape=(2, 40), dtype=int32, numpy=\n",
              " array([[0, 0, 0, 0, 0, 0, 0, 0, 0, 0, 0, 0, 0, 0, 0, 0, 0, 0, 0, 0, 0, 0,\n",
              "         0, 0, 0, 0, 0, 0, 0, 0, 0, 0, 0, 0, 0, 0, 0, 0, 0, 0],\n",
              "        [0, 0, 0, 0, 0, 0, 0, 0, 0, 0, 0, 0, 0, 0, 0, 0, 0, 0, 0, 0, 0, 0,\n",
              "         0, 0, 0, 0, 0, 0, 0, 0, 0, 0, 0, 0, 0, 0, 0, 0, 0, 0]],\n",
              "       dtype=int32)>}"
            ]
          },
          "metadata": {},
          "execution_count": 13
        }
      ]
    },
    {
      "cell_type": "markdown",
      "source": [
        "The Above format is the standard format for any bert model. This module also inherits Keras Layer,so it can also be directly used as preprocessing layer"
      ],
      "metadata": {
        "id": "TcvfRuZsvm1Q"
      }
    },
    {
      "cell_type": "code",
      "source": [
        "input = tf.keras.Input(shape = (1,),batch_size = 32,dtype = tf.string)\n",
        "output = txtbert.BertED(vocab = '/content/words.txt',max_len = 100)(input) # Our layer\n",
        "output = bert_model(output)['pooled_output']\n",
        "output = tf.keras.layers.Dense(5,activation = 'softmax')(output)\n",
        "model = tf.keras.Model(inputs = [input],outputs = output)"
      ],
      "metadata": {
        "id": "ZafNRUdjvmJm"
      },
      "execution_count": 14,
      "outputs": []
    },
    {
      "cell_type": "code",
      "source": [
        "model.summary()"
      ],
      "metadata": {
        "id": "N0YfvwCuwkpt",
        "outputId": "4b58b90b-5e86-4fd3-8933-3a7f3eebc401",
        "colab": {
          "base_uri": "https://localhost:8080/"
        }
      },
      "execution_count": 15,
      "outputs": [
        {
          "output_type": "stream",
          "name": "stdout",
          "text": [
            "Model: \"model\"\n",
            "__________________________________________________________________________________________________\n",
            " Layer (type)                   Output Shape         Param #     Connected to                     \n",
            "==================================================================================================\n",
            " input_1 (InputLayer)           [(32, 1)]            0           []                               \n",
            "                                                                                                  \n",
            " bert_ed_1 (BertED)             {'input_word_ids':   0           ['input_1[0][0]']                \n",
            "                                (None, 100),                                                      \n",
            "                                 'input_mask': (Non                                               \n",
            "                                e, 100),                                                          \n",
            "                                 'input_type_ids':                                                \n",
            "                                (None, 100)}                                                      \n",
            "                                                                                                  \n",
            " keras_layer_1 (KerasLayer)     {'encoder_outputs':  28763649    ['bert_ed_1[0][0]',              \n",
            "                                 [(None, 100, 512),               'bert_ed_1[0][1]',              \n",
            "                                 (None, 100, 512),                'bert_ed_1[0][2]']              \n",
            "                                 (None, 100, 512),                                                \n",
            "                                 (None, 100, 512)],                                               \n",
            "                                 'default': (None,                                                \n",
            "                                512),                                                             \n",
            "                                 'pooled_output': (                                               \n",
            "                                None, 512),                                                       \n",
            "                                 'sequence_output':                                               \n",
            "                                 (None, 100, 512)}                                                \n",
            "                                                                                                  \n",
            " dense (Dense)                  (None, 5)            2565        ['keras_layer_1[0][5]']          \n",
            "                                                                                                  \n",
            "==================================================================================================\n",
            "Total params: 28,766,214\n",
            "Trainable params: 28,766,213\n",
            "Non-trainable params: 1\n",
            "__________________________________________________________________________________________________\n"
          ]
        }
      ]
    },
    {
      "cell_type": "markdown",
      "source": [
        "Passing a Input to the model"
      ],
      "metadata": {
        "id": "91HTgVPlwzCg"
      }
    },
    {
      "cell_type": "code",
      "source": [
        "sentences.shape"
      ],
      "metadata": {
        "id": "mZhf0cSbyKk8",
        "outputId": "667a20d2-2135-4f00-d7be-2973b9359a45",
        "colab": {
          "base_uri": "https://localhost:8080/"
        }
      },
      "execution_count": 16,
      "outputs": [
        {
          "output_type": "execute_result",
          "data": {
            "text/plain": [
              "TensorShape([2, 1])"
            ]
          },
          "metadata": {},
          "execution_count": 16
        }
      ]
    },
    {
      "cell_type": "code",
      "source": [
        "outputs = model(sentences)"
      ],
      "metadata": {
        "id": "D4W3u71Cw2YJ"
      },
      "execution_count": 17,
      "outputs": []
    },
    {
      "cell_type": "code",
      "source": [
        "outputs.shape"
      ],
      "metadata": {
        "id": "0iJKDZgc6awm",
        "outputId": "1b360167-2acd-450a-c3b7-25cbf72b63f8",
        "colab": {
          "base_uri": "https://localhost:8080/"
        }
      },
      "execution_count": 18,
      "outputs": [
        {
          "output_type": "execute_result",
          "data": {
            "text/plain": [
              "TensorShape([2, 5])"
            ]
          },
          "metadata": {},
          "execution_count": 18
        }
      ]
    },
    {
      "cell_type": "markdown",
      "source": [
        "DECODING USING THE SAME MODULE (Integer token -> String)"
      ],
      "metadata": {
        "id": "Cy3O3ZGSBzHG"
      }
    },
    {
      "cell_type": "code",
      "source": [
        "integer_token_sentence = tf.convert_to_tensor([[100,102,104,912],[256,413,235,154]])"
      ],
      "metadata": {
        "id": "zau9NUDH6xKi"
      },
      "execution_count": 19,
      "outputs": []
    },
    {
      "cell_type": "code",
      "source": [
        "preprocess.back_to_string(integer_token_sentence)"
      ],
      "metadata": {
        "id": "xq7DOzoQ7Cff",
        "outputId": "77eca4ff-1741-448e-9221-205ff0654090",
        "colab": {
          "base_uri": "https://localhost:8080/"
        }
      },
      "execution_count": 20,
      "outputs": [
        {
          "output_type": "execute_result",
          "data": {
            "text/plain": [
              "['down been find solution', 'seem cry hard tell']"
            ]
          },
          "metadata": {},
          "execution_count": 20
        }
      ]
    },
    {
      "cell_type": "markdown",
      "source": [
        "LETS DECODE THE ENCODED SENTENCES AND CHECK IF DECODER IS ABLE TO COMPUTE THE ORIGINAL SENTENCE BACK."
      ],
      "metadata": {
        "id": "j8nvjYtDVgz7"
      }
    },
    {
      "cell_type": "code",
      "source": [
        "sentences"
      ],
      "metadata": {
        "colab": {
          "base_uri": "https://localhost:8080/"
        },
        "id": "SVJFRpVvVzjg",
        "outputId": "d1c4f4a4-9b2a-47c1-adc8-230bb537cff8"
      },
      "execution_count": 21,
      "outputs": [
        {
          "output_type": "execute_result",
          "data": {
            "text/plain": [
              "<tf.Tensor: shape=(2, 1), dtype=string, numpy=\n",
              "array([[b'I am not in danger'],\n",
              "       [b'I am the danger']], dtype=object)>"
            ]
          },
          "metadata": {},
          "execution_count": 21
        }
      ]
    },
    {
      "cell_type": "code",
      "source": [
        "encoded_sentences = preprocess(sentences)\n",
        "encoded_sentences"
      ],
      "metadata": {
        "colab": {
          "base_uri": "https://localhost:8080/"
        },
        "id": "PIDCMf2kVfqm",
        "outputId": "2f08d90d-671c-4352-b849-806ae26c0e89"
      },
      "execution_count": 22,
      "outputs": [
        {
          "output_type": "execute_result",
          "data": {
            "text/plain": [
              "{'input_word_ids': <tf.Tensor: shape=(2, 40), dtype=int32, numpy=\n",
              " array([[  1, 511,  34,  10, 798,   0,   0,   0,   0,   0,   0,   0,   0,\n",
              "           0,   0,   0,   0,   0,   0,   0,   0,   0,   0,   0,   0,   0,\n",
              "           0,   0,   0,   0,   0,   0,   0,   0,   0,   0,   0,   0,   0,\n",
              "           0],\n",
              "        [  1, 511,   5, 798,   0,   0,   0,   0,   0,   0,   0,   0,   0,\n",
              "           0,   0,   0,   0,   0,   0,   0,   0,   0,   0,   0,   0,   0,\n",
              "           0,   0,   0,   0,   0,   0,   0,   0,   0,   0,   0,   0,   0,\n",
              "           0]], dtype=int32)>,\n",
              " 'input_mask': <tf.Tensor: shape=(2, 40), dtype=int32, numpy=\n",
              " array([[1, 1, 1, 1, 1, 0, 0, 0, 0, 0, 0, 0, 0, 0, 0, 0, 0, 0, 0, 0, 0, 0,\n",
              "         0, 0, 0, 0, 0, 0, 0, 0, 0, 0, 0, 0, 0, 0, 0, 0, 0, 0],\n",
              "        [1, 1, 1, 1, 0, 0, 0, 0, 0, 0, 0, 0, 0, 0, 0, 0, 0, 0, 0, 0, 0, 0,\n",
              "         0, 0, 0, 0, 0, 0, 0, 0, 0, 0, 0, 0, 0, 0, 0, 0, 0, 0]],\n",
              "       dtype=int32)>,\n",
              " 'input_type_ids': <tf.Tensor: shape=(2, 40), dtype=int32, numpy=\n",
              " array([[0, 0, 0, 0, 0, 0, 0, 0, 0, 0, 0, 0, 0, 0, 0, 0, 0, 0, 0, 0, 0, 0,\n",
              "         0, 0, 0, 0, 0, 0, 0, 0, 0, 0, 0, 0, 0, 0, 0, 0, 0, 0],\n",
              "        [0, 0, 0, 0, 0, 0, 0, 0, 0, 0, 0, 0, 0, 0, 0, 0, 0, 0, 0, 0, 0, 0,\n",
              "         0, 0, 0, 0, 0, 0, 0, 0, 0, 0, 0, 0, 0, 0, 0, 0, 0, 0]],\n",
              "       dtype=int32)>}"
            ]
          },
          "metadata": {},
          "execution_count": 22
        }
      ]
    },
    {
      "cell_type": "code",
      "source": [
        "decoded_sentences = preprocess.back_to_string(encoded_sentences['input_word_ids'])\n",
        "decoded_sentences"
      ],
      "metadata": {
        "colab": {
          "base_uri": "https://localhost:8080/"
        },
        "id": "lNtsEL7UV74Q",
        "outputId": "4599ebb0-5780-4f85-a0e1-3d0cfa5c67ec"
      },
      "execution_count": 23,
      "outputs": [
        {
          "output_type": "execute_result",
          "data": {
            "text/plain": [
              "['[UNK] am not in danger', '[UNK] am the danger']"
            ]
          },
          "metadata": {},
          "execution_count": 23
        }
      ]
    },
    {
      "cell_type": "markdown",
      "source": [
        "THE DECODED SENTENCE IS ALMOST SAME AS THE ORIGINAL EXCEPT SOME TOKEN LIKE  < I'M > ."
      ],
      "metadata": {
        "id": "TRK0ySPzX1C2"
      }
    },
    {
      "cell_type": "markdown",
      "source": [
        "# SUMMARY\n",
        "\n",
        "*   **Import :**\n",
        "                    import TextBertED as txtbert\n",
        "\n",
        "*   **Initialize :**   \n",
        "                    preprocess = txtbert.BertED(\n",
        "                    vocab = \"words.txt\",\n",
        "                    max_len = 40,\n",
        "                    max_tokens = 1_000_000\n",
        "                    )\n",
        "  \n",
        "\n",
        "*   **To Encode(call the function / can also be used as keras layer) :**\n",
        "               encoded_sentences = preprocess(tensor_of_sentences)\n",
        "                \n",
        "*   **To Decode :**\n",
        "               decoded_sentences = preprocess.back_to_string(integer_tensor)\n",
        "\n",
        "\n",
        "\n",
        "*   **To get the vocabulary** :\n",
        "               vocab = preprocess.return_vocab()\n",
        "                           \n",
        "\n",
        "\n",
        "\n",
        "\n",
        "\n",
        "\n"
      ],
      "metadata": {
        "id": "fkeGnyWzeoYW"
      }
    }
  ]
}