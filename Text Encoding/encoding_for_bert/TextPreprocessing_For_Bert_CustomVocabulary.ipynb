{
  "nbformat": 4,
  "nbformat_minor": 0,
  "metadata": {
    "colab": {
      "provenance": [],
      "gpuType": "T4",
      "authorship_tag": "ABX9TyMXWUlszveQ+8dvm8nzSvln",
      "include_colab_link": true
    },
    "kernelspec": {
      "name": "python3",
      "display_name": "Python 3"
    },
    "language_info": {
      "name": "python"
    },
    "accelerator": "GPU"
  },
  "cells": [
    {
      "cell_type": "markdown",
      "metadata": {
        "id": "view-in-github",
        "colab_type": "text"
      },
      "source": [
        "<a href=\"https://colab.research.google.com/github/NITHISHM2410/Text_Preprocessing/blob/NLP/Text%20Encoding/encoding_for_bert/TextPreprocessing_For_Bert_CustomVocabulary.ipynb\" target=\"_parent\"><img src=\"https://colab.research.google.com/assets/colab-badge.svg\" alt=\"Open In Colab\"/></a>"
      ]
    },
    {
      "cell_type": "code",
      "execution_count": 1,
      "metadata": {
        "id": "lE3GbNOO-hib"
      },
      "outputs": [],
      "source": [
        "import tensorflow as tf\n",
        "import tensorflow_hub as hub"
      ]
    },
    {
      "cell_type": "markdown",
      "source": [
        "Importing a pretrained BERT Model."
      ],
      "metadata": {
        "id": "_yTbvkWJsweq"
      }
    },
    {
      "cell_type": "code",
      "source": [
        "bert_model = hub.KerasLayer(\"https://tfhub.dev/tensorflow/small_bert/bert_en_uncased_L-4_H-512_A-8/1\")"
      ],
      "metadata": {
        "id": "2PlLgFPL-xIG"
      },
      "execution_count": 2,
      "outputs": []
    },
    {
      "cell_type": "code",
      "source": [
        "bert_model.trainable = True"
      ],
      "metadata": {
        "id": "EpTQeccjxAZe"
      },
      "execution_count": 3,
      "outputs": []
    },
    {
      "cell_type": "markdown",
      "source": [
        "This Module can be used for scenarios where we need to train BERT models on our custom vocabulary instead of BERT inbuilt vocabulary as in some scenarios we don't prefer to use bert vocabulary because of its large size and predicting tokens might need a 'long' softmax layer."
      ],
      "metadata": {
        "id": "Bun_xecoAkth"
      }
    },
    {
      "cell_type": "code",
      "source": [
        "import TextBertED as txtbert"
      ],
      "metadata": {
        "id": "VQEFp3v3-yuL"
      },
      "execution_count": 4,
      "outputs": []
    },
    {
      "cell_type": "markdown",
      "source": [
        "DEFINE YOUR CUSTOM VOCABULARY IN 'vocab' PARAMETER AND MAXIMUM LENGTH OF INPUT SENTENCE IN 'max_len' PARAMETER.\n"
      ],
      "metadata": {
        "id": "kLeoeHti_RAj"
      }
    },
    {
      "cell_type": "code",
      "source": [
        "preprocess = txtbert.BertED(\n",
        "    vocab_file = True,\n",
        "    vocab = \"/content/words.txt\",\n",
        "    max_len = 40,\n",
        "    max_tokens = 1_000_000\n",
        "\n",
        ")"
      ],
      "metadata": {
        "id": "n6uOVUut--Ng"
      },
      "execution_count": 13,
      "outputs": []
    },
    {
      "cell_type": "markdown",
      "source": [
        "T0 RETURNS THE VOCABULARY : preprocess.return_vocab()"
      ],
      "metadata": {
        "id": "fvUQR26O6JVM"
      }
    },
    {
      "cell_type": "code",
      "source": [
        "len(preprocess.return_vocab())"
      ],
      "metadata": {
        "id": "34Cnr02I4sEZ",
        "outputId": "d5dd01d6-a836-40b6-b0e3-29dc8d4feccf",
        "colab": {
          "base_uri": "https://localhost:8080/"
        }
      },
      "execution_count": 14,
      "outputs": [
        {
          "output_type": "execute_result",
          "data": {
            "text/plain": [
              "1002"
            ]
          },
          "metadata": {},
          "execution_count": 14
        }
      ]
    },
    {
      "cell_type": "markdown",
      "source": [
        "PASSING FEW INPUT SENTENCES TO ENCODE BASED ON OUR CUSTOM VOCAB"
      ],
      "metadata": {
        "id": "-XUNofCEBrJB"
      }
    },
    {
      "cell_type": "code",
      "source": [
        "sentences = [[\"I am not in danger\"],[\"I am the danger\"]]\n",
        "sentences = tf.convert_to_tensor(sentences)\n",
        "sentences"
      ],
      "metadata": {
        "id": "dVokMFjxHNab",
        "outputId": "60b55333-4fa4-4657-ff10-7973cb05a044",
        "colab": {
          "base_uri": "https://localhost:8080/"
        }
      },
      "execution_count": 15,
      "outputs": [
        {
          "output_type": "execute_result",
          "data": {
            "text/plain": [
              "<tf.Tensor: shape=(2, 1), dtype=string, numpy=\n",
              "array([[b'I am not in danger'],\n",
              "       [b'I am the danger']], dtype=object)>"
            ]
          },
          "metadata": {},
          "execution_count": 15
        }
      ]
    },
    {
      "cell_type": "code",
      "source": [
        "results = preprocess(sentences)\n",
        "results"
      ],
      "metadata": {
        "colab": {
          "base_uri": "https://localhost:8080/"
        },
        "id": "MvkbjnKw_hle",
        "outputId": "03b2104e-6538-40ca-814e-482453e3a4b2"
      },
      "execution_count": 16,
      "outputs": [
        {
          "output_type": "execute_result",
          "data": {
            "text/plain": [
              "{'input_word_ids': <tf.Tensor: shape=(2, 40), dtype=int32, numpy=\n",
              " array([[  1, 508,  31,   7, 795,   0,   0,   0,   0,   0,   0,   0,   0,\n",
              "           0,   0,   0,   0,   0,   0,   0,   0,   0,   0,   0,   0,   0,\n",
              "           0,   0,   0,   0,   0,   0,   0,   0,   0,   0,   0,   0,   0,\n",
              "           0],\n",
              "        [  1, 508,   2, 795,   0,   0,   0,   0,   0,   0,   0,   0,   0,\n",
              "           0,   0,   0,   0,   0,   0,   0,   0,   0,   0,   0,   0,   0,\n",
              "           0,   0,   0,   0,   0,   0,   0,   0,   0,   0,   0,   0,   0,\n",
              "           0]], dtype=int32)>,\n",
              " 'input_mask': <tf.Tensor: shape=(2, 40), dtype=int32, numpy=\n",
              " array([[1, 1, 1, 1, 1, 0, 0, 0, 0, 0, 0, 0, 0, 0, 0, 0, 0, 0, 0, 0, 0, 0,\n",
              "         0, 0, 0, 0, 0, 0, 0, 0, 0, 0, 0, 0, 0, 0, 0, 0, 0, 0],\n",
              "        [1, 1, 1, 1, 0, 0, 0, 0, 0, 0, 0, 0, 0, 0, 0, 0, 0, 0, 0, 0, 0, 0,\n",
              "         0, 0, 0, 0, 0, 0, 0, 0, 0, 0, 0, 0, 0, 0, 0, 0, 0, 0]],\n",
              "       dtype=int32)>,\n",
              " 'input_type_ids': <tf.Tensor: shape=(2, 40), dtype=int32, numpy=\n",
              " array([[0, 0, 0, 0, 0, 0, 0, 0, 0, 0, 0, 0, 0, 0, 0, 0, 0, 0, 0, 0, 0, 0,\n",
              "         0, 0, 0, 0, 0, 0, 0, 0, 0, 0, 0, 0, 0, 0, 0, 0, 0, 0],\n",
              "        [0, 0, 0, 0, 0, 0, 0, 0, 0, 0, 0, 0, 0, 0, 0, 0, 0, 0, 0, 0, 0, 0,\n",
              "         0, 0, 0, 0, 0, 0, 0, 0, 0, 0, 0, 0, 0, 0, 0, 0, 0, 0]],\n",
              "       dtype=int32)>}"
            ]
          },
          "metadata": {},
          "execution_count": 16
        }
      ]
    },
    {
      "cell_type": "markdown",
      "source": [
        "The Above format is the standard format for any bert model. This module also inherits Keras Layer,so it can also be directly used as preprocessing layer"
      ],
      "metadata": {
        "id": "TcvfRuZsvm1Q"
      }
    },
    {
      "cell_type": "code",
      "source": [
        "input = tf.keras.Input(shape = (1,),batch_size = 32,dtype = tf.string)\n",
        "output = txtbert.BertED(vocab = '/content/words.txt',max_len = 100,vocab_file = True)(input) # Our layer\n",
        "output = bert_model(output)['pooled_output']\n",
        "output = tf.keras.layers.Dense(5,activation = 'softmax')(output)\n",
        "model = tf.keras.Model(inputs = [input],outputs = output)"
      ],
      "metadata": {
        "id": "ZafNRUdjvmJm"
      },
      "execution_count": 17,
      "outputs": []
    },
    {
      "cell_type": "code",
      "source": [
        "model.summary()"
      ],
      "metadata": {
        "id": "N0YfvwCuwkpt",
        "outputId": "68d8f4d3-c70a-4930-b664-785c26228e09",
        "colab": {
          "base_uri": "https://localhost:8080/"
        }
      },
      "execution_count": 18,
      "outputs": [
        {
          "output_type": "stream",
          "name": "stdout",
          "text": [
            "Model: \"model\"\n",
            "__________________________________________________________________________________________________\n",
            " Layer (type)                Output Shape                 Param #   Connected to                  \n",
            "==================================================================================================\n",
            " input_1 (InputLayer)        [(32, 1)]                    0         []                            \n",
            "                                                                                                  \n",
            " bert_ed_3 (BertED)          {'input_word_ids': (None,    0         ['input_1[0][0]']             \n",
            "                             100),                                                                \n",
            "                              'input_mask': (None, 100)                                           \n",
            "                             , 'input_type_ids': (None,                                           \n",
            "                              100)}                                                               \n",
            "                                                                                                  \n",
            " keras_layer (KerasLayer)    {'pooled_output': (None, 5   2876364   ['bert_ed_3[0][0]',           \n",
            "                             12),                         9          'bert_ed_3[0][1]',           \n",
            "                              'sequence_output': (None,              'bert_ed_3[0][2]']           \n",
            "                              100, 512),                                                          \n",
            "                              'default': (None, 512),                                             \n",
            "                              'encoder_outputs': [(None                                           \n",
            "                             , 100, 512),                                                         \n",
            "                              (None, 100, 512),                                                   \n",
            "                              (None, 100, 512),                                                   \n",
            "                              (None, 100, 512)]}                                                  \n",
            "                                                                                                  \n",
            " dense (Dense)               (None, 5)                    2565      ['keras_layer[0][5]']         \n",
            "                                                                                                  \n",
            "==================================================================================================\n",
            "Total params: 28766214 (109.73 MB)\n",
            "Trainable params: 28766213 (109.73 MB)\n",
            "Non-trainable params: 1 (1.00 Byte)\n",
            "__________________________________________________________________________________________________\n"
          ]
        }
      ]
    },
    {
      "cell_type": "markdown",
      "source": [
        "Passing a Input to the model"
      ],
      "metadata": {
        "id": "91HTgVPlwzCg"
      }
    },
    {
      "cell_type": "code",
      "source": [
        "sentences.shape"
      ],
      "metadata": {
        "id": "mZhf0cSbyKk8",
        "outputId": "2ad126e9-573c-4847-ec07-35058813b3f5",
        "colab": {
          "base_uri": "https://localhost:8080/"
        }
      },
      "execution_count": 19,
      "outputs": [
        {
          "output_type": "execute_result",
          "data": {
            "text/plain": [
              "TensorShape([2, 1])"
            ]
          },
          "metadata": {},
          "execution_count": 19
        }
      ]
    },
    {
      "cell_type": "code",
      "source": [
        "outputs = model(sentences)"
      ],
      "metadata": {
        "id": "D4W3u71Cw2YJ"
      },
      "execution_count": 20,
      "outputs": []
    },
    {
      "cell_type": "code",
      "source": [
        "outputs.shape"
      ],
      "metadata": {
        "id": "0iJKDZgc6awm",
        "outputId": "50db8ff3-f022-4535-d672-4fe69ab774e4",
        "colab": {
          "base_uri": "https://localhost:8080/"
        }
      },
      "execution_count": 21,
      "outputs": [
        {
          "output_type": "execute_result",
          "data": {
            "text/plain": [
              "TensorShape([2, 5])"
            ]
          },
          "metadata": {},
          "execution_count": 21
        }
      ]
    },
    {
      "cell_type": "markdown",
      "source": [
        "DECODING USING THE SAME MODULE (Integer token -> String)"
      ],
      "metadata": {
        "id": "Cy3O3ZGSBzHG"
      }
    },
    {
      "cell_type": "code",
      "source": [
        "integer_token_sentence = tf.convert_to_tensor([[100,102,104,912],[256,413,235,154]])"
      ],
      "metadata": {
        "id": "zau9NUDH6xKi"
      },
      "execution_count": 22,
      "outputs": []
    },
    {
      "cell_type": "code",
      "source": [
        "preprocess.back_to_string(integer_token_sentence)"
      ],
      "metadata": {
        "id": "xq7DOzoQ7Cff",
        "outputId": "6808a0dd-d844-43cf-ba0e-9d435570a5f8",
        "colab": {
          "base_uri": "https://localhost:8080/"
        }
      },
      "execution_count": 24,
      "outputs": [
        {
          "output_type": "execute_result",
          "data": {
            "text/plain": [
              "<tf.Tensor: shape=(2, 4), dtype=string, numpy=\n",
              "array([[b'now', b'any', b'work', b'thank'],\n",
              "       [b'white', b'note', b'story', b'three']], dtype=object)>"
            ]
          },
          "metadata": {},
          "execution_count": 24
        }
      ]
    }
  ]
}